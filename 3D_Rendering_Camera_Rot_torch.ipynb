{
  "nbformat": 4,
  "nbformat_minor": 0,
  "metadata": {
    "colab": {
      "provenance": [],
      "authorship_tag": "ABX9TyPV3nWFbKTUulr6XSqUr5UB",
      "include_colab_link": true
    },
    "kernelspec": {
      "name": "python3",
      "display_name": "Python 3"
    },
    "language_info": {
      "name": "python"
    }
  },
  "cells": [
    {
      "cell_type": "markdown",
      "metadata": {
        "id": "view-in-github",
        "colab_type": "text"
      },
      "source": [
        "<a href=\"https://colab.research.google.com/github/umututku03/3D-Rendering-Camera-Rotation-Torch/blob/main/3D_Rendering_Camera_Rot_torch.ipynb\" target=\"_parent\"><img src=\"https://colab.research.google.com/assets/colab-badge.svg\" alt=\"Open In Colab\"/></a>"
      ]
    },
    {
      "cell_type": "code",
      "execution_count": null,
      "metadata": {
        "id": "hb7GpBEUD7Zr"
      },
      "outputs": [],
      "source": [
        "import os\n",
        "import shutil\n",
        "import numpy as np\n",
        "from PIL import Image, ImageDraw\n",
        "import random\n",
        "import torch\n",
        "from torch import nn\n",
        "from math import sin, cos, radians\n",
        "import matplotlib.pyplot as plt"
      ]
    },
    {
      "cell_type": "code",
      "source": [
        "# Ensure reproducibility\n",
        "torch.manual_seed(14)\n",
        "np.random.seed(14)\n",
        "random.seed(14)"
      ],
      "metadata": {
        "id": "99Dbo8CcFiRY"
      },
      "execution_count": null,
      "outputs": []
    },
    {
      "cell_type": "code",
      "source": [
        "# Define the cube vertices and edges\n",
        "cube_vertices = np.array([\n",
        "    [1, 1, -1], [-1, 1, -1], [-1, -1, -1], [1, -1, -1],\n",
        "    [1, 1, 1], [-1, 1, 1], [-1, -1, 1], [1, -1, 1]\n",
        "])\n",
        "\n",
        "cube_edges = [\n",
        "    (0, 1), (1, 2), (2, 3), (3, 0),\n",
        "    (4, 5), (5, 6), (6, 7), (7, 4),\n",
        "    (0, 4), (1, 5), (2, 6), (3, 7)\n",
        "]"
      ],
      "metadata": {
        "id": "1o_jmSWGFlEl"
      },
      "execution_count": null,
      "outputs": []
    },
    {
      "cell_type": "code",
      "source": [
        "class LookAt(nn.Module):\n",
        "    \"\"\"\n",
        "    A neural network module that constructs a view matrix for transforming\n",
        "    coordinates from one position to another, emulating the behavior of a camera\n",
        "    looking from one position to another.\n",
        "    \"\"\"\n",
        "    def __init__(self):\n",
        "        \"\"\"\n",
        "        Initializes the LookAt module by calling the constructor of the parent class nn.Module.\n",
        "        \"\"\"\n",
        "        super(LookAt, self).__init__()\n",
        "\n",
        "    def forward(self, from_pos, to_pos, up):\n",
        "        \"\"\"\n",
        "        Constructs the view matrix given the position to look from, the position\n",
        "        to look at, and the up direction vector.\n",
        "        \"\"\"\n",
        "        forward = from_pos - to_pos\n",
        "        forward = forward / torch.norm(forward)\n",
        "        right = torch.cross(up, forward)\n",
        "        right = right / torch.norm(right)\n",
        "        up = torch.cross(forward, right)\n",
        "        view_matrix = torch.eye(4)\n",
        "        view_matrix[0, :3] = right\n",
        "        view_matrix[1, :3] = up\n",
        "        view_matrix[2, :3] = forward\n",
        "        view_matrix[:3, 3] = -torch.matmul(view_matrix[:3, :3], from_pos.unsqueeze(1)).squeeze()\n",
        "        return view_matrix\n"
      ],
      "metadata": {
        "id": "QlDWNSmRFmqM"
      },
      "execution_count": null,
      "outputs": []
    },
    {
      "cell_type": "code",
      "source": [
        "class ProjectVertex(nn.Module):\n",
        "    \"\"\"\n",
        "    A neural network module that projects a 3D vertex into 2D space using a given projection matrix.\n",
        "    \"\"\"\n",
        "    def __init__(self, projection_matrix):\n",
        "        \"\"\"\n",
        "        Initializes the ProjectVertex module with a given projection matrix.\n",
        "        \"\"\"\n",
        "        super(ProjectVertex, self).__init__()\n",
        "        self.projection_matrix = projection_matrix\n",
        "\n",
        "    def forward(self, vertex, view_matrix):\n",
        "        \"\"\"\n",
        "        Projects the given 3D vertex into 2D space using the view and projection matrices.\n",
        "        \"\"\"\n",
        "        vertex_homogeneous = torch.cat((vertex, torch.ones(1)), dim=0)\n",
        "        transformed_vertex = view_matrix @ vertex_homogeneous\n",
        "        projected_vertex = self.projection_matrix @ transformed_vertex\n",
        "        projected_vertex = projected_vertex[:2] / projected_vertex[3]\n",
        "        return projected_vertex\n"
      ],
      "metadata": {
        "id": "D93sdQmHG8bN"
      },
      "execution_count": null,
      "outputs": []
    },
    {
      "cell_type": "code",
      "source": [
        "# Initial camera setup\n",
        "target_pos = torch.tensor([0.0, 0.0, 0.0], dtype=torch.float32)\n",
        "up_vector = torch.tensor([0.0, 1.0, 0.0], dtype=torch.float32)\n",
        "\n",
        "# Projection matrix setup (assuming perspective projection)\n",
        "fov = 60  # Field of view in degrees\n",
        "aspect_ratio = 1.0  # Aspect ratio\n",
        "near = 1.0  # Near clipping plane\n",
        "far = 100.0  # Far clipping plane\n",
        "fov_rad = np.radians(fov)\n",
        "f = 1 / np.tan(fov_rad / 2)\n",
        "projection_matrix = torch.tensor([\n",
        "    [f / aspect_ratio, 0, 0, 0],\n",
        "    [0, f, 0, 0],\n",
        "    [0, 0, (far + near) / (near - far), (2 * far * near) / (near - far)],\n",
        "    [0, 0, -1, 0]\n",
        "], dtype=torch.float32)"
      ],
      "metadata": {
        "id": "BSzUVukjG9Jj"
      },
      "execution_count": null,
      "outputs": []
    },
    {
      "cell_type": "code",
      "source": [
        "look_at = LookAt()\n",
        "project_vertex = ProjectVertex(projection_matrix)"
      ],
      "metadata": {
        "id": "JpPAmsXgG_cK"
      },
      "execution_count": null,
      "outputs": []
    },
    {
      "cell_type": "code",
      "source": [
        "# Rendering parameters\n",
        "r = 5\n",
        "num_steps = 100"
      ],
      "metadata": {
        "id": "129DE5_7HA43"
      },
      "execution_count": null,
      "outputs": []
    },
    {
      "cell_type": "code",
      "source": [
        "# Ensure the output directories exist\n",
        "render_dir = \"renders_pytorch\"\n",
        "extrinsic_dir = \"extrinsics\"\n",
        "points_dir = \"computed_2d_points\"\n",
        "\n",
        "for directory in [render_dir, extrinsic_dir, points_dir]:\n",
        "    if not os.path.exists(directory):\n",
        "        os.makedirs(directory)"
      ],
      "metadata": {
        "id": "xy1Ev3GWHCZO"
      },
      "execution_count": null,
      "outputs": []
    },
    {
      "cell_type": "code",
      "source": [
        "# Image rendering loop\n",
        "for step in range(num_steps):\n",
        "    alpha = step * 2 * np.pi / num_steps\n",
        "    camera_pos = torch.tensor([\n",
        "        target_pos[0] + r * np.cos(alpha),  # x-coordinate\n",
        "        target_pos[1] - 3.5,                # y-coordinate (elevation) kept constant\n",
        "        target_pos[2] + r * np.sin(alpha)   # z-coordinate\n",
        "    ], dtype=torch.float32)\n",
        "\n",
        "    view_matrix = look_at(camera_pos, target_pos, up_vector)\n",
        "\n",
        "    # Save the extrinsic matrix\n",
        "    np.savetxt(f\"{extrinsic_dir}/extrinsic_{step}.txt\", view_matrix.detach().numpy())\n",
        "\n",
        "    image_size = 500\n",
        "    image = Image.new(\"RGB\", (image_size, image_size), \"white\")\n",
        "    draw = ImageDraw.Draw(image)\n",
        "\n",
        "    # Project and draw each edge of the cube\n",
        "    points_2d = []\n",
        "    for edge in cube_edges:\n",
        "        v0, v1 = cube_vertices[edge[0]], cube_vertices[edge[1]]\n",
        "        p0 = project_vertex(torch.tensor(v0, dtype=torch.float32), view_matrix)\n",
        "        p1 = project_vertex(torch.tensor(v1, dtype=torch.float32), view_matrix)\n",
        "        p0 = (image_size / 2 * (p0 + 1)).int().numpy()\n",
        "        p1 = (image_size / 2 * (p1 + 1)).int().numpy()\n",
        "        draw.line([tuple(p0), tuple(p1)], fill=\"black\")\n",
        "        points_2d.append(p0)\n",
        "        points_2d.append(p1)\n",
        "\n",
        "    # Save the 2D points\n",
        "    points_2d = np.unique(np.array(points_2d), axis=0)  # Remove duplicate points\n",
        "    np.savetxt(f\"{points_dir}/points_{step}.txt\", points_2d, fmt='%d')\n",
        "\n",
        "    # Save the image\n",
        "    filename = f'{render_dir}/frame_{step}.png'\n",
        "    image.save(filename)\n",
        "\n",
        "print(f'Rendering completed. Images saved in {render_dir}, {extrinsic_dir}, and {points_dir} directories.')"
      ],
      "metadata": {
        "id": "0s32R_VpHDrK"
      },
      "execution_count": null,
      "outputs": []
    },
    {
      "cell_type": "code",
      "source": [
        "# Ensure the output directories exist in the current working directory\n",
        "output_dir_frames = \"/kaggle/working/cube_images_fixed_frames\"\n",
        "output_dir_extrinsics = \"/kaggle/working/cube_images_fixed_extrinsics\"\n",
        "output_dir_points = \"/kaggle/working/cube_images_fixed_points\"\n",
        "\n",
        "for directory in [output_dir_frames, output_dir_extrinsics, output_dir_points]:\n",
        "    if not os.path.exists(directory):\n",
        "        os.makedirs(directory)\n",
        "\n",
        "# Copy images and data to the output directories\n",
        "for file in os.listdir(render_dir):\n",
        "    shutil.copy(os.path.join(render_dir, file), output_dir_frames)\n",
        "\n",
        "for file in os.listdir(extrinsic_dir):\n",
        "    shutil.copy(os.path.join(extrinsic_dir, file), output_dir_extrinsics)\n",
        "\n",
        "for file in os.listdir(points_dir):\n",
        "    shutil.copy(os.path.join(points_dir, file), output_dir_points)\n",
        "\n",
        "# Create zip files\n",
        "shutil.make_archive(output_dir_frames, 'zip', output_dir_frames)\n",
        "shutil.make_archive(output_dir_extrinsics, 'zip', output_dir_extrinsics)\n",
        "shutil.make_archive(output_dir_points, 'zip', output_dir_points)\n",
        "\n",
        "print(f'Images and data are saved and zipped in {output_dir_frames}.zip, {output_dir_extrinsics}.zip, and {output_dir_points}.zip')"
      ],
      "metadata": {
        "id": "pgEZlLgKHGaY"
      },
      "execution_count": null,
      "outputs": []
    }
  ]
}